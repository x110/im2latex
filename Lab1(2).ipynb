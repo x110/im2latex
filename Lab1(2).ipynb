{
  "nbformat": 4,
  "nbformat_minor": 0,
  "metadata": {
    "accelerator": "GPU",
    "colab": {
      "name": "Lab1.ipynb",
      "provenance": [],
      "collapsed_sections": []
    },
    "kernelspec": {
      "display_name": "Python 3",
      "name": "python3"
    },
    "language_info": {
      "name": "python"
    }
  },
  "cells": [
    {
      "cell_type": "markdown",
      "metadata": {
        "id": "K1xzb5-nf98B"
      },
      "source": [
        "# Image2Latex\n",
        "## Project Goals:\n",
        "- Build a system that can automatically decompile an image of an equation into latex or markdown.\n",
        "- Build a codebase that features: \n",
        "    - CLI scripts to run experiments with different configurations\n",
        "    - Log experiments results in weight and biases\n",
        "    - Perform hyper-parameter sweeps via weights and biases\n",
        "    - Build visualization tool to understand model performance on sample data. \n",
        "    - Build a docker image for the project\n",
        "    - Host the project on AWS GPU (VM)\n",
        "    - Unit and integration tests\n",
        "    - Logging\n",
        "    - Github actions for CI/CD \n",
        "\n",
        "## Project Description\n",
        "**What dataset will you use, or how do you plan to collect data?**\n",
        "\n",
        "The plan is to start with the IM2LATEX-100K dataset, but may move to collect my own dataset from sites such as mathOverflow.net in order to train the model on markdown syntax.\n",
        "\n",
        "**What baseline will you use?**\n",
        "\n",
        "The plan is to reproduce [this paper](https://arxiv.org/pdf/1609.04938v1.pdf). The paper uses CNN for text and layout recognition, in addition to an attention based neural translation system (based on LSTMs).\n",
        "\n",
        "**What model architecture ?**\n",
        "\n",
        "I plan to use encoder-decoder architecture as proposed in the paper. The encoder consists of a CNN, while the decoder consists of LSTM models with attention. I may try to improve the model by using transformers. \n",
        "\n",
        "**What loss function do you propose?**\n",
        "\n",
        "Cross entropy loss \n",
        "\n",
        "**What will the end result look like?** \n",
        "\n",
        "A web endpoint where users can upload a photo and get a latex/markdown format. \n",
        "\n",
        "**What’s your stretch goal?**\n",
        "\n",
        " I would like to deploy this as a chrome extension that users can use to get the latex/md syntax of an equation in a paper they are browning and paste it directly in their editor.\n"
      ]
    },
    {
      "cell_type": "markdown",
      "metadata": {
        "id": "AWKhoI9ZcLop"
      },
      "source": [
        "## Setting up the project\n",
        "My approach is to first develop the project on a small dataset using google colab. Once I am confident with my implementaion, I will move to training the model on the complete IM@LATEX-100K dataset using a more powerful infrastructure.  \n"
      ]
    },
    {
      "cell_type": "markdown",
      "metadata": {
        "id": "NN9Ius07VLsr"
      },
      "source": [
        "### Setting up google colab"
      ]
    },
    {
      "cell_type": "markdown",
      "metadata": {
        "id": "MPoEUE96V8RJ"
      },
      "source": [
        "- We use google drive as file storage. Datasets as well as code base is stored there. \n",
        "- We use google colab GPU to run the code. \n",
        "- Github is used for code versioning. "
      ]
    },
    {
      "cell_type": "code",
      "metadata": {
        "colab": {
          "base_uri": "https://localhost:8080/"
        },
        "id": "7RkijKvfgMEz",
        "outputId": "01390774-96b1-40cd-9dcb-55500ad797a0"
      },
      "source": [
        "!pip install python-dotenv\n",
        "!pip install wandb -qqq"
      ],
      "execution_count": null,
      "outputs": [
        {
          "output_type": "stream",
          "text": [
            "Requirement already satisfied: python-dotenv in /usr/local/lib/python3.7/dist-packages (0.17.1)\n"
          ],
          "name": "stdout"
        }
      ]
    },
    {
      "cell_type": "code",
      "metadata": {
        "colab": {
          "base_uri": "https://localhost:8080/"
        },
        "id": "_sqNkSgDEI0Z",
        "outputId": "af06d47d-d5b6-416c-cb71-5c26a0335d52"
      },
      "source": [
        "#setup colab\n",
        "%load_ext autoreload\n",
        "%autoreload 2\n",
        "\n",
        "#set up working directory (google drive)\n",
        "%cd /content/drive/MyDrive/im2latex\n",
        "\n",
        "#load credentials\n",
        "import os\n",
        "from dotenv import load_dotenv\n",
        "load_dotenv()\n",
        "Password = os.getenv(\"Password\")\n",
        "Username =os.getenv(\"Username\")\n",
        "REPO = os.getenv(\"REPO\")\n",
        "EMAIL = os.getenv(\"EMAIL\")"
      ],
      "execution_count": null,
      "outputs": [
        {
          "output_type": "stream",
          "text": [
            "The autoreload extension is already loaded. To reload it, use:\n",
            "  %reload_ext autoreload\n",
            "/content/drive/MyDrive/im2latex\n"
          ],
          "name": "stdout"
        }
      ]
    },
    {
      "cell_type": "code",
      "metadata": {
        "id": "OEVvSvCCo7we"
      },
      "source": [
        "#configuring weights and biases\n",
        "!wandb init -p im2latex"
      ],
      "execution_count": null,
      "outputs": []
    },
    {
      "cell_type": "markdown",
      "metadata": {
        "id": "h9WNCC4zdD9i"
      },
      "source": [
        "## Dataset"
      ]
    },
    {
      "cell_type": "markdown",
      "metadata": {
        "id": "fJwq7rUUgI3z"
      },
      "source": [
        "### Prepare small sample dataset (to be used while development)\n",
        "The scripts to preprocess the data were adopted from https://github.com/harvardnlp/im2markup.git.\n",
        "The sample dataset consists of 1200 raw images along with their latex markup. The images are cropped, padded, and downsampled using the below scripts.\n",
        "The latex markup are normalized and filter (some samples are discarded if they did not fit a criteria like the max allowed markup length.) \n"
      ]
    },
    {
      "cell_type": "code",
      "metadata": {
        "id": "6lIOq6AogDmd"
      },
      "source": [
        "#%cd /content/drive/MyDrive/im2latex/im2markup"
      ],
      "execution_count": null,
      "outputs": []
    },
    {
      "cell_type": "code",
      "metadata": {
        "colab": {
          "base_uri": "https://localhost:8080/"
        },
        "id": "X-Fm8siW9BmZ",
        "outputId": "6c1bbae2-37dc-42b8-b92b-c68468cc687f"
      },
      "source": [
        "!ls /content/drive/MyDrive/im2latex/im2markup/data/sample/images | wc -l"
      ],
      "execution_count": null,
      "outputs": [
        {
          "output_type": "stream",
          "text": [
            "1200\n"
          ],
          "name": "stdout"
        }
      ]
    },
    {
      "cell_type": "code",
      "metadata": {
        "id": "8SqejIThgDYf"
      },
      "source": [
        "#!python scripts/preprocessing/preprocess_images.py --input-dir data/sample/images --output-dir data/sample/images_processed"
      ],
      "execution_count": null,
      "outputs": []
    },
    {
      "cell_type": "code",
      "metadata": {
        "colab": {
          "base_uri": "https://localhost:8080/",
          "height": 623
        },
        "id": "LQQGNBkBZHbm",
        "outputId": "d7ff8e27-acf1-4fbd-ea6d-7d097f4b14b0"
      },
      "source": [
        "raw_imgpath = \"/content/drive/MyDrive/im2latex/im2markup/data/sample/images/1015942522.png\"\n",
        "processed_imgpath = \"/content/drive/MyDrive/im2latex/im2markup/data/sample/images_processed/1015942522.png\"\n",
        "display(Markdown('### Raw Image'))\n",
        "display(Image(filename=raw_imgpath,width=300))\n",
        "display(Markdown('### Processed Image'))\n",
        "display(Image(filename=processed_imgpath))"
      ],
      "execution_count": null,
      "outputs": [
        {
          "output_type": "display_data",
          "data": {
            "text/markdown": "### Raw Image",
            "text/plain": [
              "<IPython.core.display.Markdown object>"
            ]
          },
          "metadata": {
            "tags": []
          }
        },
        {
          "output_type": "display_data",
          "data": {
            "image/png": "[encoded data removed]",
            "text/plain": [
              "<IPython.core.display.Image object>"
            ]
          },
          "metadata": {
            "tags": [],
            "image/png": {
              "width": 300
            }
          }
        },
        {
          "output_type": "display_data",
          "data": {
            "text/markdown": "### Processed Image",
            "text/plain": [
              "<IPython.core.display.Markdown object>"
            ]
          },
          "metadata": {
            "tags": []
          }
        },
        {
          "output_type": "display_data",
          "data": {
            "image/png": "[encoded data removed]",
            "text/plain": [
              "<IPython.core.display.Image object>"
            ]
          },
          "metadata": {
            "tags": []
          }
        }
      ]
    },
    {
      "cell_type": "code",
      "metadata": {
        "id": "onfW3Y8YgHpk"
      },
      "source": [
        "#!python scripts/preprocessing/preprocess_formulas.py --mode normalize --input-file data/sample/formulas.lst --output-file data/sample/formulas.norm.lst"
      ],
      "execution_count": null,
      "outputs": []
    },
    {
      "cell_type": "code",
      "metadata": {
        "colab": {
          "base_uri": "https://localhost:8080/",
          "height": 188
        },
        "id": "wNcbCaQ-aqT4",
        "outputId": "4983e973-b2ae-45f3-b733-c2123aec0773"
      },
      "source": [
        "labels_file = \"/content/drive/MyDrive/im2latex/im2markup/data/sample/formulas.lst\"\n",
        "f = open(labels_file)\n",
        "labels = f.readlines()\n",
        "f.close()\n",
        "display(Markdown('\\n### Label'))\n",
        "print(labels[0])\n",
        "labels_file = \"/content/drive/MyDrive/im2latex/im2markup/data/sample/formulas.norm.lst\"\n",
        "f = open(labels_file)\n",
        "labels_norm = f.readlines()\n",
        "f.close()\n",
        "display(Markdown('\\n### Normalized  Label'))\n",
        "print(labels_norm[0])"
      ],
      "execution_count": null,
      "outputs": [
        {
          "output_type": "display_data",
          "data": {
            "text/markdown": "\n### Label",
            "text/plain": [
              "<IPython.core.display.Markdown object>"
            ]
          },
          "metadata": {
            "tags": []
          }
        },
        {
          "output_type": "stream",
          "text": [
            "ds^{2} = (1 - {qcos\\theta\\over r})^{2\\over 1 + \\alpha^{2}}\\lbrace dr^2+r^2d\\theta^2+r^2sin^2\\theta d\\varphi^2\\rbrace -{dt^2\\over  (1 - {qcos\\theta\\over r})^{2\\over 1 + \\alpha^{2}}}\\, .\\label{eq:sps1}\n",
            "\n"
          ],
          "name": "stdout"
        },
        {
          "output_type": "display_data",
          "data": {
            "text/markdown": "\n### Normalized  Label",
            "text/plain": [
              "<IPython.core.display.Markdown object>"
            ]
          },
          "metadata": {
            "tags": []
          }
        },
        {
          "output_type": "stream",
          "text": [
            "d s ^ { 2 } = ( 1 - { \\frac { q c o s \\theta } { r } } ) ^ { \\frac { 2 } { 1 + \\alpha ^ { 2 } } } \\lbrace d r ^ { 2 } + r ^ { 2 } d \\theta ^ { 2 } + r ^ { 2 } s i n ^ { 2 } \\theta d \\varphi ^ { 2 } \\rbrace - { \\frac { d t ^ { 2 } } { ( 1 - { \\frac { q c o s \\theta } { r } } ) ^ { \\frac { 2 } { 1 + \\alpha ^ { 2 } } } } } \\, .\n",
            "\n"
          ],
          "name": "stdout"
        }
      ]
    },
    {
      "cell_type": "code",
      "metadata": {
        "id": "ZCXbJlPIgUaw"
      },
      "source": [
        "#!python scripts/preprocessing/preprocess_filter.py --filter --image-dir data/sample/images_processed --label-path data/sample/formulas.norm.lst --data-path data/sample/train.lst --output-path data/sample/train_filter.lst "
      ],
      "execution_count": null,
      "outputs": []
    },
    {
      "cell_type": "code",
      "metadata": {
        "id": "JYW8C19XgUNy"
      },
      "source": [
        "#!python scripts/preprocessing/preprocess_filter.py --filter --image-dir data/sample/images_processed --label-path data/sample/formulas.norm.lst --data-path data/sample/validate.lst --output-path data/sample/validate_filter.lst "
      ],
      "execution_count": null,
      "outputs": []
    },
    {
      "cell_type": "code",
      "metadata": {
        "id": "QAxg5vDJgUBw"
      },
      "source": [
        "#!python scripts/preprocessing/preprocess_filter.py --no-filter --image-dir data/sample/images_processed --label-path data/sample/formulas.norm.lst --data-path data/sample/test.lst --output-path data/sample/test_filter.lst "
      ],
      "execution_count": null,
      "outputs": []
    },
    {
      "cell_type": "code",
      "metadata": {
        "id": "_216wqYXCcTJ"
      },
      "source": [
        "#!python scripts/preprocessing/generate_latex_vocab.py --data-path data/sample/train_filter.lst --label-path data/sample/formulas.norm.lst --output-file data/sample/latex_vocab.txt"
      ],
      "execution_count": null,
      "outputs": []
    },
    {
      "cell_type": "code",
      "metadata": {
        "colab": {
          "base_uri": "https://localhost:8080/"
        },
        "id": "4WQGL812hCs3",
        "outputId": "70961f3d-34b5-452f-8c96-5d0094ae0485"
      },
      "source": [
        "#For example tokens\n",
        "!head /content/drive/MyDrive/im2latex/im2markup/data/sample/latex_vocab.txt"
      ],
      "execution_count": null,
      "outputs": [
        {
          "output_type": "stream",
          "text": [
            "!\n",
            "&\n",
            "'\n",
            "(\n",
            ")\n",
            "*\n",
            "+\n",
            ",\n",
            "-\n",
            ".\n"
          ],
          "name": "stdout"
        }
      ]
    },
    {
      "cell_type": "code",
      "metadata": {
        "colab": {
          "base_uri": "https://localhost:8080/"
        },
        "id": "rZggZkHyhdwE",
        "outputId": "edc5b26d-b754-4e47-eef5-84b4e488fbac"
      },
      "source": [
        "#Number of tokens \n",
        "!wc -l /content/drive/MyDrive/im2latex/im2markup/data/sample/latex_vocab.txt"
      ],
      "execution_count": null,
      "outputs": [
        {
          "output_type": "stream",
          "text": [
            "252 /content/drive/MyDrive/im2latex/im2markup/data/sample/latex_vocab.txt\n"
          ],
          "name": "stdout"
        }
      ]
    },
    {
      "cell_type": "code",
      "metadata": {
        "id": "DTIPGSu1EW86"
      },
      "source": [
        "#!mkdir -p /content/drive/MyDrive/im2latex/data/ && cp -r /content/drive/MyDrive/im2latex/im2markup/data/sample /content/drive/MyDrive/im2latex/data/sample"
      ],
      "execution_count": null,
      "outputs": []
    },
    {
      "cell_type": "code",
      "metadata": {
        "colab": {
          "base_uri": "https://localhost:8080/"
        },
        "id": "DMBKdeWFNp4_",
        "outputId": "c289ee0a-e341-48ef-b8e0-efccc2518b81"
      },
      "source": [
        "data_folder = \"/content/drive/MyDrive/im2latex/data/sample/\"\n",
        "imgs_folder = data_folder+\"images_processed/\"\n",
        "f = open(f'{data_folder}train_filter.lst')\n",
        "lines = f.readlines()\n",
        "ds = [(line.split(\" \")[0]\n",
        "                     ,int(line.split(\" \")[1].rstrip(\"\\n\")))\n",
        " for line in lines]\n",
        "ds[0]"
      ],
      "execution_count": null,
      "outputs": [
        {
          "output_type": "execute_result",
          "data": {
            "text/plain": [
              "('60ee748793.png', 0)"
            ]
          },
          "metadata": {
            "tags": []
          },
          "execution_count": 51
        }
      ]
    },
    {
      "cell_type": "code",
      "metadata": {
        "id": "FfSbK-kte_Xe"
      },
      "source": [
        "labels_file = \"formulas.norm.lst\"\n",
        "f = open(f'{data_folder}{labels_file}')\n",
        "labels = f.readlines()\n",
        "f.close()"
      ],
      "execution_count": null,
      "outputs": []
    },
    {
      "cell_type": "code",
      "metadata": {
        "colab": {
          "base_uri": "https://localhost:8080/",
          "height": 285
        },
        "id": "_kW9qiGgC2gd",
        "outputId": "1069e23b-ab7f-4c5e-9f49-5db902280805"
      },
      "source": [
        "from IPython.display import display, Image, Markdown, Latex\n",
        "from random import randint\n",
        "\n",
        "class Caption():\n",
        "    def __init__(self,s):\n",
        "        self.s = s\n",
        "    def _repr_html_(self):\n",
        "        return '{0}'.format(self.s)\n",
        "    def _repr_latex_(self):\n",
        "        return '\\\\begin{center}\\n'+self.s+'\\n\\\\end{center}'\n",
        "\n",
        "i = randint(0,len(ds))\n",
        "img_name,idx = ds[i]\n",
        "img_filename = imgs_folder+img_name\n",
        "label = labels[idx]\n",
        "display(Markdown('### Input Image'))\n",
        "display(Image(filename=img_filename))\n",
        "display(Markdown('\\n### Annotation'))\n",
        "print(label)\n",
        "display(Markdown('\\n### Compiled Annotation'))\n",
        "display(Latex(\"\\Large \"+label))"
      ],
      "execution_count": null,
      "outputs": [
        {
          "output_type": "display_data",
          "data": {
            "text/markdown": "### Input Image",
            "text/plain": [
              "<IPython.core.display.Markdown object>"
            ]
          },
          "metadata": {
            "tags": []
          }
        },
        {
          "output_type": "display_data",
          "data": {
            "image/png": "[encoded data removed]",
            "text/plain": [
              "<IPython.core.display.Image object>"
            ]
          },
          "metadata": {
            "tags": []
          }
        },
        {
          "output_type": "display_data",
          "data": {
            "text/markdown": "\n### Annotation",
            "text/plain": [
              "<IPython.core.display.Markdown object>"
            ]
          },
          "metadata": {
            "tags": []
          }
        },
        {
          "output_type": "stream",
          "text": [
            "\\delta _ { l } ^ { ( 2 ) } \\approx \\eta \\left[ \\operatorname { l n } \\left( \\frac { z _ { l } } \\alpha \\right) + \\frac 1 { 2 4 z _ { l } ^ { 2 } } - \\frac { q ^ { 2 } } { 2 z _ { l } ^ { 2 } } + O \\left( \\frac 1 { z _ { l } ^ { 4 } } \\right) \\right] + O ( \\eta ^ { 3 } ) \\ .\n",
            "\n"
          ],
          "name": "stdout"
        },
        {
          "output_type": "display_data",
          "data": {
            "text/markdown": "\n### Compiled Annotation",
            "text/plain": [
              "<IPython.core.display.Markdown object>"
            ]
          },
          "metadata": {
            "tags": []
          }
        },
        {
          "output_type": "display_data",
          "data": {
            "text/latex": "\\Large \\delta _ { l } ^ { ( 2 ) } \\approx \\eta \\left[ \\operatorname { l n } \\left( \\frac { z _ { l } } \\alpha \\right) + \\frac 1 { 2 4 z _ { l } ^ { 2 } } - \\frac { q ^ { 2 } } { 2 z _ { l } ^ { 2 } } + O \\left( \\frac 1 { z _ { l } ^ { 4 } } \\right) \\right] + O ( \\eta ^ { 3 } ) \\ .\n",
            "text/plain": [
              "<IPython.core.display.Latex object>"
            ]
          },
          "metadata": {
            "tags": []
          }
        }
      ]
    },
    {
      "cell_type": "markdown",
      "metadata": {
        "id": "5-OQPTixgRyC"
      },
      "source": [
        "## Model"
      ]
    },
    {
      "cell_type": "markdown",
      "metadata": {
        "id": "4qNPwnLph54C"
      },
      "source": [
        "\n",
        "The model architecture consists of Deep CNN Encoder, followed by LSTM decoder with attention. \n",
        "\n",
        "We used the implementatoin provided by https://github.com/luopeixiang/im2latex as the baseline model. The reported results of the baseline model is:\n"
      ]
    },
    {
      "cell_type": "markdown",
      "metadata": {
        "id": "yJKJ_8W3YbnP"
      },
      "source": [
        "## Prepare envirnoment"
      ]
    },
    {
      "cell_type": "code",
      "metadata": {
        "colab": {
          "base_uri": "https://localhost:8080/"
        },
        "id": "PaZ1NpaxX8zf",
        "outputId": "0eb7d887-7493-47b4-a8d7-7356593352f2"
      },
      "source": [
        "%cd /content/drive/MyDrive/im2latex/im2latex"
      ],
      "execution_count": null,
      "outputs": [
        {
          "output_type": "stream",
          "text": [
            "/content/drive/MyDrive/im2latex/im2latex\n"
          ],
          "name": "stdout"
        }
      ]
    },
    {
      "cell_type": "code",
      "metadata": {
        "colab": {
          "base_uri": "https://localhost:8080/"
        },
        "id": "SznzSOfmYKFX",
        "outputId": "b92814de-5b9d-4cfe-9056-662f45ec00e3"
      },
      "source": [
        "!pip install -r requirements.txt\n",
        "!pip install distance"
      ],
      "execution_count": null,
      "outputs": [
        {
          "output_type": "stream",
          "text": [
            "Requirement already satisfied: Distance==0.1.3 in /usr/local/lib/python3.7/dist-packages (from -r requirements.txt (line 1)) (0.1.3)\n",
            "Collecting nltk==3.4.5\n",
            "  Using cached https://files.pythonhosted.org/packages/f6/1d/d925cfb4f324ede997f6d47bea4d9babba51b49e87a767c170b77005889d/nltk-3.4.5.zip\n",
            "Collecting numpy==1.17.2\n",
            "  Using cached https://files.pythonhosted.org/packages/ba/e0/46e2f0540370f2661b044647fa447fef2ecbcc8f7cdb4329ca2feb03fb23/numpy-1.17.2-cp37-cp37m-manylinux1_x86_64.whl\n",
            "Collecting Pillow==6.1.0\n",
            "  Using cached https://files.pythonhosted.org/packages/a4/da/2bd281c875686230eabc13d20ab590ea617563b0e746abfb0698c4d5b645/Pillow-6.1.0-cp37-cp37m-manylinux1_x86_64.whl\n",
            "\u001b[31mERROR: Could not find a version that satisfies the requirement pkg-resources==0.0.0 (from -r requirements.txt (line 5)) (from versions: none)\u001b[0m\n",
            "\u001b[31mERROR: No matching distribution found for pkg-resources==0.0.0 (from -r requirements.txt (line 5))\u001b[0m\n",
            "Requirement already satisfied: distance in /usr/local/lib/python3.7/dist-packages (0.1.3)\n"
          ],
          "name": "stdout"
        }
      ]
    },
    {
      "cell_type": "code",
      "metadata": {
        "id": "tFqIzD-oiewT"
      },
      "source": [
        "#transform data into pairs (Image tensor, annotation) and sort samples by image size\n",
        "#!python preprocess.py --data_path /content/drive/MyDrive/im2latex/data/sample"
      ],
      "execution_count": null,
      "outputs": []
    },
    {
      "cell_type": "code",
      "metadata": {
        "id": "OLLXb87mY4bY"
      },
      "source": [
        "#!python build_vocab.py --data_path /content/drive/MyDrive/im2latex/data/sample"
      ],
      "execution_count": null,
      "outputs": []
    },
    {
      "cell_type": "markdown",
      "metadata": {
        "id": "dDYHjtz9SYP6"
      },
      "source": [
        "## Overfit on a single batch"
      ]
    },
    {
      "cell_type": "code",
      "metadata": {
        "id": "UlDNYk_jZWOz",
        "colab": {
          "base_uri": "https://localhost:8080/"
        },
        "outputId": "88d5037f-d14b-455e-e005-e633cfc0be43"
      },
      "source": [
        "!python train.py \\\n",
        "    --data_path /content/drive/MyDrive/im2latex/data/sample \\\n",
        "    --dropout=0.2 \\\n",
        "    --add_position_features \\\n",
        "    --epoches=3 \\\n",
        "    --max_len=150 \\\n",
        "    --batch_size 32 \\\n",
        "    --train_on_single_batch"
      ],
      "execution_count": null,
      "outputs": [
        {
          "output_type": "stream",
          "text": [
            "\u001b[34m\u001b[1mwandb\u001b[0m: Currently logged in as: \u001b[33mmariam\u001b[0m (use `wandb login --relogin` to force relogin)\n",
            "2021-05-16 07:11:15.590009: I tensorflow/stream_executor/platform/default/dso_loader.cc:49] Successfully opened dynamic library libcudart.so.11.0\n",
            "\u001b[34m\u001b[1mwandb\u001b[0m: Tracking run with wandb version 0.10.30\n",
            "\u001b[34m\u001b[1mwandb\u001b[0m: Syncing run \u001b[33mfiery-blaze-76\u001b[0m\n",
            "\u001b[34m\u001b[1mwandb\u001b[0m: ⭐️ View project at \u001b[34m\u001b[4mhttps://wandb.ai/mariam/im2latex\u001b[0m\n",
            "\u001b[34m\u001b[1mwandb\u001b[0m: 🚀 View run at \u001b[34m\u001b[4mhttps://wandb.ai/mariam/im2latex/runs/u288deq7\u001b[0m\n",
            "\u001b[34m\u001b[1mwandb\u001b[0m: Run data is saved locally in /content/drive/My Drive/im2latex/im2latex/wandb/run-20210516_071112-u288deq7\n",
            "\u001b[34m\u001b[1mwandb\u001b[0m: Run `wandb offline` to turn off syncing.\n",
            "\n",
            "Training args: Namespace(add_position_features=True, batch_size=32, clip=2.0, cuda=True, data_path='/content/drive/MyDrive/im2latex/data/sample', dec_rnn_h=512, decay_k=1.0, dropout=0.2, emb_dim=80, epoches=3, from_check_point=False, lr=0.0003, lr_decay=0.5, lr_patience=3, max_len=150, min_lr=3e-05, print_freq=100, sample_method='teacher_forcing', save_dir='./ckpts', seed=2020, train_on_single_batch=True, wandb=False)\n",
            "Load vocab...\n",
            "Load vocab including 394 words!\n",
            "Construct data loader...\n",
            "/usr/local/lib/python3.7/dist-packages/torch/utils/data/dataloader.py:477: UserWarning: This DataLoader will create 4 worker processes in total. Our suggested max number of worker in current system is 2, which is smaller than what this DataLoader is going to create. Please be aware that excessive worker creation might get DataLoader running slow or even freeze, lower the worker number to avoid potential slowness/freeze if necessary.\n",
            "  cpuset_checked))\n",
            "Construct model\n",
            "Model Settings:\n",
            "Im2LatexModel(\n",
            "  (cnn_encoder): Sequential(\n",
            "    (0): Conv2d(3, 64, kernel_size=(3, 3), stride=(1, 1), padding=(1, 1))\n",
            "    (1): ReLU()\n",
            "    (2): MaxPool2d(kernel_size=2, stride=2, padding=1, dilation=1, ceil_mode=False)\n",
            "    (3): Conv2d(64, 128, kernel_size=(3, 3), stride=(1, 1), padding=(1, 1))\n",
            "    (4): ReLU()\n",
            "    (5): MaxPool2d(kernel_size=2, stride=2, padding=1, dilation=1, ceil_mode=False)\n",
            "    (6): Conv2d(128, 256, kernel_size=(3, 3), stride=(1, 1), padding=(1, 1))\n",
            "    (7): ReLU()\n",
            "    (8): Conv2d(256, 256, kernel_size=(3, 3), stride=(1, 1), padding=(1, 1))\n",
            "    (9): ReLU()\n",
            "    (10): MaxPool2d(kernel_size=(2, 1), stride=(2, 1), padding=0, dilation=1, ceil_mode=False)\n",
            "    (11): Conv2d(256, 512, kernel_size=(3, 3), stride=(1, 1))\n",
            "    (12): ReLU()\n",
            "  )\n",
            "  (rnn_decoder): LSTMCell(592, 512)\n",
            "  (embedding): Embedding(394, 80)\n",
            "  (init_wh): Linear(in_features=512, out_features=512, bias=True)\n",
            "  (init_wc): Linear(in_features=512, out_features=512, bias=True)\n",
            "  (init_wo): Linear(in_features=512, out_features=512, bias=True)\n",
            "  (W_1): Linear(in_features=512, out_features=512, bias=False)\n",
            "  (W_2): Linear(in_features=512, out_features=512, bias=False)\n",
            "  (W_3): Linear(in_features=1024, out_features=512, bias=False)\n",
            "  (W_out): Linear(in_features=512, out_features=394, bias=False)\n",
            "  (dropout): Dropout(p=0.2, inplace=False)\n",
            ")\n",
            "Epoch 1, validation average loss:5.8307, Perplexity:56.9152\n",
            "Saving checkpoint to ./ckpts/best_ckpt.pt\n",
            "Saving checkpoint to ./ckpts/ckpt-1-5.8307.pt\n",
            "Epoch 2, validation average loss:0.0000, Perplexity:1.0000\n",
            "Saving checkpoint to ./ckpts/best_ckpt.pt\n",
            "Saving checkpoint to ./ckpts/ckpt-2-0.0000.pt\n",
            "Epoch 3, validation average loss:0.0000, Perplexity:1.0000\n",
            "Saving checkpoint to ./ckpts/ckpt-3-0.0000.pt\n",
            "\n",
            "\u001b[34m\u001b[1mwandb\u001b[0m: Waiting for W&B process to finish, PID 598\n",
            "\u001b[34m\u001b[1mwandb\u001b[0m: Program ended successfully.\n",
            "\u001b[34m\u001b[1mwandb\u001b[0m:                                                                                \n",
            "\u001b[34m\u001b[1mwandb\u001b[0m: Find user logs for this run at: /content/drive/My Drive/im2latex/im2latex/wandb/run-20210516_071112-u288deq7/logs/debug.log\n",
            "\u001b[34m\u001b[1mwandb\u001b[0m: Find internal logs for this run at: /content/drive/My Drive/im2latex/im2latex/wandb/run-20210516_071112-u288deq7/logs/debug-internal.log\n",
            "\u001b[34m\u001b[1mwandb\u001b[0m: Run summary:\n",
            "\u001b[34m\u001b[1mwandb\u001b[0m:           epoch 3\n",
            "\u001b[34m\u001b[1mwandb\u001b[0m:   val avrg loss 0.0\n",
            "\u001b[34m\u001b[1mwandb\u001b[0m:       perplexit 1.0\n",
            "\u001b[34m\u001b[1mwandb\u001b[0m:        _runtime 42\n",
            "\u001b[34m\u001b[1mwandb\u001b[0m:      _timestamp 1621149114\n",
            "\u001b[34m\u001b[1mwandb\u001b[0m:           _step 2\n",
            "\u001b[34m\u001b[1mwandb\u001b[0m: Run history:\n",
            "\u001b[34m\u001b[1mwandb\u001b[0m:           epoch ▁▅█\n",
            "\u001b[34m\u001b[1mwandb\u001b[0m:   val avrg loss █▁▁\n",
            "\u001b[34m\u001b[1mwandb\u001b[0m:       perplexit █▁▁\n",
            "\u001b[34m\u001b[1mwandb\u001b[0m:        _runtime ▁▄█\n",
            "\u001b[34m\u001b[1mwandb\u001b[0m:      _timestamp ▁▄█\n",
            "\u001b[34m\u001b[1mwandb\u001b[0m:           _step ▁▅█\n",
            "\u001b[34m\u001b[1mwandb\u001b[0m: \n",
            "\u001b[34m\u001b[1mwandb\u001b[0m: Synced 5 W&B file(s), 0 media file(s), 0 artifact file(s) and 0 other file(s)\n",
            "\u001b[34m\u001b[1mwandb\u001b[0m: \n",
            "\u001b[34m\u001b[1mwandb\u001b[0m: Synced \u001b[33mfiery-blaze-76\u001b[0m: \u001b[34mhttps://wandb.ai/mariam/im2latex/runs/u288deq7\u001b[0m\n"
          ],
          "name": "stdout"
        }
      ]
    },
    {
      "cell_type": "markdown",
      "metadata": {
        "id": "OPZS_86swbXw"
      },
      "source": [
        "## Train on a sample dataset"
      ]
    },
    {
      "cell_type": "code",
      "metadata": {
        "colab": {
          "base_uri": "https://localhost:8080/"
        },
        "id": "P7GVxiSFnprI",
        "outputId": "e74c0ac1-6771-4927-c5f3-fb6e23332c3b"
      },
      "source": [
        "!python train.py \\\n",
        "    --data_path /content/drive/MyDrive/im2latex/data/sample \\\n",
        "    --dropout=0.2 \\\n",
        "    --add_position_features \\\n",
        "    --epoches=20\\\n",
        "    --max_len=150 \\\n",
        "    --batch_size 16 \\\n",
        "    --wandb \n"
      ],
      "execution_count": null,
      "outputs": [
        {
          "output_type": "stream",
          "text": [
            "\u001b[34m\u001b[1mwandb\u001b[0m: Currently logged in as: \u001b[33mmariam\u001b[0m (use `wandb login --relogin` to force relogin)\n",
            "2021-05-16 10:43:03.056533: I tensorflow/stream_executor/platform/default/dso_loader.cc:49] Successfully opened dynamic library libcudart.so.11.0\n",
            "\u001b[34m\u001b[1mwandb\u001b[0m: Tracking run with wandb version 0.10.30\n",
            "\u001b[34m\u001b[1mwandb\u001b[0m: Syncing run \u001b[33mgraceful-disco-79\u001b[0m\n",
            "\u001b[34m\u001b[1mwandb\u001b[0m: ⭐️ View project at \u001b[34m\u001b[4mhttps://wandb.ai/mariam/im2latex\u001b[0m\n",
            "\u001b[34m\u001b[1mwandb\u001b[0m: 🚀 View run at \u001b[34m\u001b[4mhttps://wandb.ai/mariam/im2latex/runs/18xuz1d2\u001b[0m\n",
            "\u001b[34m\u001b[1mwandb\u001b[0m: Run data is saved locally in /content/drive/My Drive/im2latex/im2latex/wandb/run-20210516_104301-18xuz1d2\n",
            "\u001b[34m\u001b[1mwandb\u001b[0m: Run `wandb offline` to turn off syncing.\n",
            "\n",
            "Training args: Namespace(add_position_features=True, batch_size=16, clip=2.0, cuda=True, data_path='/content/drive/MyDrive/im2latex/data/sample', dec_rnn_h=512, decay_k=1.0, dropout=0.2, emb_dim=80, epoches=20, from_check_point=False, lr=0.0003, lr_decay=0.5, lr_patience=3, max_len=150, min_lr=3e-05, print_freq=100, sample_method='teacher_forcing', save_dir='./ckpts', seed=2020, train_on_single_batch=False, wandb=True)\n",
            "Load vocab...\n",
            "Load vocab including 394 words!\n",
            "Construct data loader...\n",
            "/usr/local/lib/python3.7/dist-packages/torch/utils/data/dataloader.py:477: UserWarning: This DataLoader will create 4 worker processes in total. Our suggested max number of worker in current system is 2, which is smaller than what this DataLoader is going to create. Please be aware that excessive worker creation might get DataLoader running slow or even freeze, lower the worker number to avoid potential slowness/freeze if necessary.\n",
            "  cpuset_checked))\n",
            "Construct model\n",
            "Model Settings:\n",
            "Im2LatexModel(\n",
            "  (cnn_encoder): Sequential(\n",
            "    (0): Conv2d(3, 64, kernel_size=(3, 3), stride=(1, 1), padding=(1, 1))\n",
            "    (1): ReLU()\n",
            "    (2): MaxPool2d(kernel_size=2, stride=2, padding=1, dilation=1, ceil_mode=False)\n",
            "    (3): Conv2d(64, 128, kernel_size=(3, 3), stride=(1, 1), padding=(1, 1))\n",
            "    (4): ReLU()\n",
            "    (5): MaxPool2d(kernel_size=2, stride=2, padding=1, dilation=1, ceil_mode=False)\n",
            "    (6): Conv2d(128, 256, kernel_size=(3, 3), stride=(1, 1), padding=(1, 1))\n",
            "    (7): ReLU()\n",
            "    (8): Conv2d(256, 256, kernel_size=(3, 3), stride=(1, 1), padding=(1, 1))\n",
            "    (9): ReLU()\n",
            "    (10): MaxPool2d(kernel_size=(2, 1), stride=(2, 1), padding=0, dilation=1, ceil_mode=False)\n",
            "    (11): Conv2d(256, 512, kernel_size=(3, 3), stride=(1, 1))\n",
            "    (12): ReLU()\n",
            "  )\n",
            "  (rnn_decoder): LSTMCell(592, 512)\n",
            "  (embedding): Embedding(394, 80)\n",
            "  (init_wh): Linear(in_features=512, out_features=512, bias=True)\n",
            "  (init_wc): Linear(in_features=512, out_features=512, bias=True)\n",
            "  (init_wo): Linear(in_features=512, out_features=512, bias=True)\n",
            "  (W_1): Linear(in_features=512, out_features=512, bias=False)\n",
            "  (W_2): Linear(in_features=512, out_features=512, bias=False)\n",
            "  (W_3): Linear(in_features=1024, out_features=512, bias=False)\n",
            "  (W_out): Linear(in_features=512, out_features=394, bias=False)\n",
            "  (dropout): Dropout(p=0.2, inplace=False)\n",
            ")\n",
            "Epoch 1, validation average loss:4.0300, Perplexity:16.3362\n",
            "Saving checkpoint to ./ckpts/best_ckpt.pt\n",
            "Saving checkpoint to ./ckpts/ckpt-1-4.0300.pt\n",
            "Epoch 2, validation average loss:3.6139, Perplexity:12.2433\n",
            "Saving checkpoint to ./ckpts/best_ckpt.pt\n",
            "Saving checkpoint to ./ckpts/ckpt-2-3.6139.pt\n"
          ],
          "name": "stdout"
        }
      ]
    },
    {
      "cell_type": "markdown",
      "metadata": {
        "id": "NxO2A9wMj2UN"
      },
      "source": [
        "## Model Evaluation"
      ]
    },
    {
      "cell_type": "code",
      "metadata": {
        "colab": {
          "base_uri": "https://localhost:8080/"
        },
        "id": "uz3TlrnDsMOJ",
        "outputId": "d4134762-6372-4bec-f723-bcf15f1a5d2c"
      },
      "source": [
        "!python  evaluate.py --split=test \\\n",
        "     --model_path=/content/drive/MyDrive/im2latex/ckpt-20-1.8869.pt \\\n",
        "     --data_path /content/drive/MyDrive/im2latex/data/sample/ \\\n",
        "     --batch_size 16\\\n",
        "     --ref_path=./results/ref.txt \\\n",
        "     --result_path=./results/result.txt \\\n",
        "     --beam_size 1\\\n",
        "     --num_workers 4"
      ],
      "execution_count": null,
      "outputs": [
        {
          "output_type": "stream",
          "text": [
            "\u001b[34m\u001b[1mwandb\u001b[0m: Currently logged in as: \u001b[33mmariam\u001b[0m (use `wandb login --relogin` to force relogin)\n",
            "2021-05-16 10:06:30.415130: I tensorflow/stream_executor/platform/default/dso_loader.cc:49] Successfully opened dynamic library libcudart.so.11.0\n",
            "\u001b[34m\u001b[1mwandb\u001b[0m: Tracking run with wandb version 0.10.30\n",
            "\u001b[34m\u001b[1mwandb\u001b[0m: Syncing run \u001b[33mlilac-serenity-78\u001b[0m\n",
            "\u001b[34m\u001b[1mwandb\u001b[0m: ⭐️ View project at \u001b[34m\u001b[4mhttps://wandb.ai/mariam/im2latex\u001b[0m\n",
            "\u001b[34m\u001b[1mwandb\u001b[0m: 🚀 View run at \u001b[34m\u001b[4mhttps://wandb.ai/mariam/im2latex/runs/1h5gnyjz\u001b[0m\n",
            "\u001b[34m\u001b[1mwandb\u001b[0m: Run data is saved locally in /content/drive/My Drive/im2latex/im2latex/wandb/run-20210516_100628-1h5gnyjz\n",
            "\u001b[34m\u001b[1mwandb\u001b[0m: Run `wandb offline` to turn off syncing.\n",
            "\n",
            "Traceback (most recent call last):\n",
            "  File \"evaluate.py\", line 92, in <module>\n",
            "    main()\n",
            "  File \"evaluate.py\", line 43, in main\n",
            "    checkpoint = torch.load(join(args.model_path))\n",
            "  File \"/usr/local/lib/python3.7/dist-packages/torch/serialization.py\", line 592, in load\n",
            "    return _load(opened_zipfile, map_location, pickle_module, **pickle_load_args)\n",
            "  File \"/usr/local/lib/python3.7/dist-packages/torch/serialization.py\", line 851, in _load\n",
            "    result = unpickler.load()\n",
            "  File \"/usr/local/lib/python3.7/dist-packages/torch/serialization.py\", line 843, in persistent_load\n",
            "    load_tensor(data_type, size, key, _maybe_decode_ascii(location))\n",
            "  File \"/usr/local/lib/python3.7/dist-packages/torch/serialization.py\", line 832, in load_tensor\n",
            "    loaded_storages[key] = restore_location(storage, location)\n",
            "  File \"/usr/local/lib/python3.7/dist-packages/torch/serialization.py\", line 175, in default_restore_location\n",
            "    result = fn(storage, location)\n",
            "  File \"/usr/local/lib/python3.7/dist-packages/torch/serialization.py\", line 151, in _cuda_deserialize\n",
            "    device = validate_cuda_device(location)\n",
            "  File \"/usr/local/lib/python3.7/dist-packages/torch/serialization.py\", line 135, in validate_cuda_device\n",
            "    raise RuntimeError('Attempting to deserialize object on a CUDA '\n",
            "RuntimeError: Attempting to deserialize object on a CUDA device but torch.cuda.is_available() is False. If you are running on a CPU-only machine, please use torch.load with map_location=torch.device('cpu') to map your storages to the CPU.\n",
            "\n",
            "\u001b[34m\u001b[1mwandb\u001b[0m: Waiting for W&B process to finish, PID 2962\n",
            "\u001b[34m\u001b[1mwandb\u001b[0m: Program failed with code 1.  Press ctrl-c to abort syncing.\n",
            "\u001b[34m\u001b[1mwandb\u001b[0m:                                                                                \n",
            "\u001b[34m\u001b[1mwandb\u001b[0m: Find user logs for this run at: /content/drive/My Drive/im2latex/im2latex/wandb/run-20210516_100628-1h5gnyjz/logs/debug.log\n",
            "\u001b[34m\u001b[1mwandb\u001b[0m: Find internal logs for this run at: /content/drive/My Drive/im2latex/im2latex/wandb/run-20210516_100628-1h5gnyjz/logs/debug-internal.log\n",
            "\u001b[34m\u001b[1mwandb\u001b[0m: Synced 5 W&B file(s), 0 media file(s), 0 artifact file(s) and 0 other file(s)\n",
            "\u001b[34m\u001b[1mwandb\u001b[0m: \n",
            "\u001b[34m\u001b[1mwandb\u001b[0m: Synced \u001b[33mlilac-serenity-78\u001b[0m: \u001b[34mhttps://wandb.ai/mariam/im2latex/runs/1h5gnyjz\u001b[0m\n"
          ],
          "name": "stdout"
        }
      ]
    },
    {
      "cell_type": "code",
      "metadata": {
        "id": "JUUrFLqA13-a"
      },
      "source": [
        "f = open(f'./results/result.txt')\n",
        "result = f.readlines()\n",
        "f.close()"
      ],
      "execution_count": null,
      "outputs": []
    },
    {
      "cell_type": "code",
      "metadata": {
        "id": "05XX4F-2Od-X"
      },
      "source": [
        "f = open(f'./results/ref.txt')\n",
        "ref= f.readlines()\n",
        "f.close()"
      ],
      "execution_count": null,
      "outputs": []
    },
    {
      "cell_type": "code",
      "metadata": {
        "colab": {
          "base_uri": "https://localhost:8080/"
        },
        "id": "ewAyu-zdPA6Z",
        "outputId": "fa4afab7-1ffc-431b-f2d8-ad36d4c0fd5c"
      },
      "source": [
        "len(result),len(ref)"
      ],
      "execution_count": null,
      "outputs": [
        {
          "output_type": "execute_result",
          "data": {
            "text/plain": [
              "(10, 10)"
            ]
          },
          "metadata": {
            "tags": []
          },
          "execution_count": 73
        }
      ]
    },
    {
      "cell_type": "code",
      "metadata": {
        "colab": {
          "base_uri": "https://localhost:8080/",
          "height": 167
        },
        "id": "-xiBSyAX13ro",
        "outputId": "561380dc-80c1-4c78-8826-2ec235c632b0"
      },
      "source": [
        "from IPython.display import display, Image, Markdown, Latex\n",
        "from random import randint\n",
        "\n",
        "class Caption():\n",
        "    def __init__(self,s):\n",
        "        self.s = s\n",
        "    def _repr_html_(self):\n",
        "        return '{0}'.format(self.s)\n",
        "    def _repr_latex_(self):\n",
        "        return '\\\\begin{center}\\n'+self.s+'\\n\\\\end{center}'\n",
        "\n",
        "i =randint(0,10)\n",
        "t = ref[i]\n",
        "p = result[i]\n",
        "display(Markdown('\\n### Reference'))\n",
        "display(Latex(\"\\Large \"+t))\n",
        "display(Markdown('\\n### results'))\n",
        "display(Latex(\"\\Large \"+p))"
      ],
      "execution_count": null,
      "outputs": [
        {
          "output_type": "display_data",
          "data": {
            "text/markdown": "\n### Reference",
            "text/plain": [
              "<IPython.core.display.Markdown object>"
            ]
          },
          "metadata": {
            "tags": []
          }
        },
        {
          "output_type": "display_data",
          "data": {
            "text/latex": "\\Large J _ { 2 } ( z ) \\times X ^ { + } ( w ) \\rightarrow 0 .J _ { k } = \\oint p _ { k } d q _ { k } , ~ ~ k = r , ~ \\theta , ~ \\phi ,j _ { H W } ( x ) = W _ { i } ( x ) T ^ { i } \\; , \\; T ^ { i } \\in k e r ( A d ( M _ { - } ) )\n",
            "text/plain": [
              "<IPython.core.display.Latex object>"
            ]
          },
          "metadata": {
            "tags": []
          }
        },
        {
          "output_type": "display_data",
          "data": {
            "text/markdown": "\n### results",
            "text/plain": [
              "<IPython.core.display.Markdown object>"
            ]
          },
          "metadata": {
            "tags": []
          }
        },
        {
          "output_type": "display_data",
          "data": {
            "text/latex": "\\Large { \\cal L } _ { 1 } = \\frac { 1 } { 2 } \\int d ^ { 2 } x \\sqrt { - g } g ^ { \\mu \\nu } \\partial _ { \\mu } \\phi \\partial _ { \\mu } \\phi ) ^ { 2 } - \\frac { 1 } { 2 } g ^ { 2 }{ \\cal L } = \\frac { 1 } { 2 } \\int d ^ { 2 } x \\sqrt { - g } \\left( \\frac { 1 } { 2 } g ^ { 2 } ( \\partial _ { \\mu } \\phi ) ^ { 2 } ) ]{ \\cal L } = \\frac { 1 } { 2 } \\int d ^ { 2 } x \\sqrt { - g } \\left( \\frac { 1 } { 2 } g ^ { 2 } ( \\partial _ { \\mu } \\phi ) ^ { 2 } ) ]\n",
            "text/plain": [
              "<IPython.core.display.Latex object>"
            ]
          },
          "metadata": {
            "tags": []
          }
        }
      ]
    },
    {
      "cell_type": "markdown",
      "metadata": {
        "id": "yMlxspQQ4yJf"
      },
      "source": [
        "## References\n",
        "- https://github.com/harvardnlp/im2markup\n",
        "- https://github.com/luopeixiang/im2latex\n",
        "- https://colab.research.google.com/drive/1XDtq-KT0GkX06a_g1MevuLFOMk4TxjKZ#scrollTo=JklaxjJ-f0dl"
      ]
    },
    {
      "cell_type": "code",
      "metadata": {
        "id": "NBY1bsqlBcZ3"
      },
      "source": [
        "# Preprocess images\n",
        "# Crop images to get rid of the background.\n",
        "# For a cropped image of size (w,h), we pad it with PAD_TOP, PAD_BOTTOM, PAD_LEFT, PAD_RIGHT, and the result is of size (w+PAD_LEFT+PAD_RIGHT, h+PAD_TOP+PAD_BOTTOM.\n",
        "#downsample images.\n",
        "\n",
        "import sys, os, argparse, json, glob, logging\n",
        "import numpy as np\n",
        "from PIL import Image\n",
        "from image_utils import *\n",
        "\n",
        "\n",
        "crop_blank_default_size='[600,60]',\n",
        "pad_size=[8,8,8,8]# We pad the cropped image to the top, left, bottom, right with whitespace of size PAD_TOP, PAD_LEFT, PAD_BOTTOM, PAD_RIGHT\n",
        "downsample_ratio=2\n",
        "\n",
        "\n",
        "status = crop_image(filename, output_filename, crop_blank_default_size)\n",
        "status = pad_group_image(output_filename, output_filename, pad_size, buckets)\n",
        "status = downsample_image(output_filename, output_filename, downsample_ratio)\n"
      ],
      "execution_count": null,
      "outputs": []
    }
  ]
}